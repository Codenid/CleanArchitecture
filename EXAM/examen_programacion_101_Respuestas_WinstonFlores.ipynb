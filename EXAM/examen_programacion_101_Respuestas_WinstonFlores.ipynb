{
  "nbformat": 4,
  "nbformat_minor": 0,
  "metadata": {
    "colab": {
      "provenance": [],
      "name": "examen_programacion_101_Respuestas_WinstonFlores.ipynb",
      "include_colab_link": true
    },
    "kernelspec": {
      "name": "python3",
      "display_name": "Python 3"
    },
    "language_info": {
      "name": "python"
    }
  },
  "cells": [
    {
      "cell_type": "markdown",
      "metadata": {
        "id": "view-in-github",
        "colab_type": "text"
      },
      "source": [
        "<a href=\"https://colab.research.google.com/github/Codenid/CleanArchitecture/blob/master/EXAM/examen_programacion_101_Respuestas_WinstonFlores.ipynb\" target=\"_parent\"><img src=\"https://colab.research.google.com/assets/colab-badge.svg\" alt=\"Open In Colab\"/></a>"
      ]
    },
    {
      "cell_type": "markdown",
      "source": [
        "<img src=\"https://posgrado.utec.edu.pe/sites/default/files/2023-08/Testimonial-home-2.jpg\" alt=\"HTML5 Icon\" width=\"900\" height=\"250\" >\n"
      ],
      "metadata": {
        "id": "ub41hbIV6UQ6"
      }
    },
    {
      "cell_type": "markdown",
      "source": [
        "#**Examen Programación 101 – Módulo 1**\n"
      ],
      "metadata": {
        "id": "zpZSxKDI51_7"
      }
    },
    {
      "cell_type": "markdown",
      "source": [
        "**Contexto**\n",
        "\n",
        "Estás colaborando en el diseño de un sistema básico de autenticación y validación de datos para una empresa tecnológica en expansión. El sistema debe realizar verificaciones fundamentales sobre usuarios, contraseñas, códigos de acceso e identificadores, utilizando únicamente estructuras condicionales y operaciones básicas, dado que el prototipo está pensado para funcionar en dispositivos con capacidad de cómputo muy limitada.\n",
        "\n",
        "Cada pregunta del examen representa uno de los desafíos que debes resolver en este sistema: desde validar un código, clasificar niveles de acceso, hasta verificar si una entrada cumple con múltiples criterios simultáneamente."
      ],
      "metadata": {
        "id": "qphDGB6eAe-K"
      }
    },
    {
      "cell_type": "markdown",
      "source": [
        "\n",
        "\n",
        "**Nombre y Apellido:**\n",
        "\n",
        "---"
      ],
      "metadata": {
        "id": "_MYFZY5D97r5"
      }
    },
    {
      "cell_type": "markdown",
      "source": [
        "Duración: 45 minutos\n",
        "\n",
        "**Instrucciones**\n",
        "\n",
        "1. No está permitido el uso de funciones (def), bucles (for, while)\n",
        "\n",
        "2. Puedes utilizar:\n",
        "\n",
        "  * Asignación de variables\n",
        "  * Operadores aritméticos y lógicos\n",
        "  * Condicionales (if, elif, else)\n",
        "  * Funciones input() y print()\n",
        "\n",
        "3. Se evaluará no solo la respuesta correcta, sino también la claridad, buenas prácticas, uso correcto de tipos de datos y estructura lógica.\n",
        "\n",
        "---"
      ],
      "metadata": {
        "id": "VInsS6-u7MUH"
      }
    },
    {
      "cell_type": "markdown",
      "source": [
        "**Pregunta 1: Validación de Usuario**\n"
      ],
      "metadata": {
        "id": "xVGPY6H68IO_"
      }
    },
    {
      "cell_type": "markdown",
      "source": [
        "Escribe un programa que valide un usuario según estas reglas:\n",
        "\n",
        "* El usuario debe tener exactamente 5 caracteres.\n",
        "* El primer carácter debe ser mayúscula.\n",
        "* El último carácter debe ser un número.\n",
        "\n",
        "Imprime \"Usuario válido\" o \"Usuario inválido\" según corresponda."
      ],
      "metadata": {
        "id": "2mSAVboy8Q6m"
      }
    },
    {
      "cell_type": "code",
      "execution_count": 9,
      "metadata": {
        "id": "mOSniL8V5jR4",
        "colab": {
          "base_uri": "https://localhost:8080/"
        },
        "outputId": "5f06365f-c8aa-495b-c0c9-9d21c661bbde"
      },
      "outputs": [
        {
          "output_type": "stream",
          "name": "stdout",
          "text": [
            "Ingrese el nombre de usuario: A12b4\n",
            "User 'A12b4' valid!\n"
          ]
        }
      ],
      "source": [
        "# Your code starts here\n",
        "# user_example: usuario = \"A12b4\"\n",
        "\n",
        "# Data entry\n",
        "user_name = input(\"Enter your username: \").strip()\n",
        "\n",
        "# Business Conditions\n",
        "condition1 = len(user_name) == 5\n",
        "condition2 = user_name[0].isupper()\n",
        "condition3 = user_name[-1].isdigit()\n",
        "\n",
        "# Apply rules and print results\n",
        "if condition1 and condition2 and condition3:\n",
        "    print(f\"User '{user_name}' is valid!\")\n",
        "else:\n",
        "    print(f\"User '{user_name}' is invalid!\")\n",
        "\n",
        "# Your code ends here"
      ]
    },
    {
      "cell_type": "markdown",
      "source": [
        "**Pregunta 2: Nivel de Seguridad Numérico**\n",
        "\n",
        "Pide tres dígitos separados al usuario usando input(). Luego:\n",
        "\n",
        "* Imprime \"ALTO\" si los tres dígitos son diferentes.\n",
        "* Imprime \"MEDIO\" si solo dos son iguales.\n",
        "* Imprime \"BAJO\" si los tres son iguales."
      ],
      "metadata": {
        "id": "ZI1HrCRe8uU6"
      }
    },
    {
      "cell_type": "code",
      "source": [
        "# Your code starts here\n",
        "\n",
        "# Data entry\n",
        "input_digit_one = input(\"Enter the first digit: \")\n",
        "input_digit_two = input(\"Enter the second digit: \")\n",
        "input_digit_three = input(\"Enter the third digit: \")\n",
        "\n",
        "if not input_digit_one.isdigit() or not input_digit_two.isdigit() or not input_digit_three.isdigit():\n",
        "  print(\"You must enter only numbers.\")\n",
        "  exit()\n",
        "else:\n",
        "  input_digit_one = int(input_digit_one)\n",
        "  input_digit_two = int(input_digit_two)\n",
        "  input_digit_three = int(input_digit_three)\n",
        "  # Business Conditions\n",
        "  condition1 = input_digit_one == input_digit_two\n",
        "  condition2 = input_digit_two == input_digit_three\n",
        "\n",
        "  # Apply rules and print results\n",
        "  if condition1 and condition2:\n",
        "      print(\"LOW\")\n",
        "  elif condition1 or condition2:\n",
        "      print(\"MEDIUM\")\n",
        "  else:\n",
        "      print(\"HIGH\")\n",
        "\n",
        "# Your code ends here"
      ],
      "metadata": {
        "id": "hEUnfNCK88lF"
      },
      "execution_count": null,
      "outputs": []
    },
    {
      "cell_type": "markdown",
      "source": [
        "**Pregunta 3: Código de Acceso**\n",
        "\n",
        "Pide al usuario ingresar un número entero de tres dígitos.\n",
        "Verifica si la suma de sus tres dígitos es exactamente 10:\n",
        "\n",
        "* Si lo es, imprime \"Código válido\".\n",
        "* Si no, imprime \"Código inválido\"."
      ],
      "metadata": {
        "id": "DaAUaft_9DMe"
      }
    },
    {
      "cell_type": "code",
      "source": [
        "# Your code starts here\n",
        "\n",
        "# Data entry\n",
        "input_number = int(input(\"Enter a three-digit number: \"))\n",
        "\n",
        "# Business Conditions\n",
        "digit_one = input_number // 100\n",
        "digit_two = (input_number // 10) % 10\n",
        "digit_three = input_number % 10\n",
        "\n",
        "condition_sum_10 = digit_one + digit_two + digit_three == 10\n",
        "\n",
        "# Apply rules and print results\n",
        "if condition_sum_10:\n",
        "    print(\"Valid code!\")\n",
        "else:\n",
        "    print(\"Invalid code!\")\n",
        "\n",
        "# Your code ends here"
      ],
      "metadata": {
        "id": "Xa15jei89HaU",
        "colab": {
          "base_uri": "https://localhost:8080/"
        },
        "outputId": "925bc4e6-a112-425f-e602-92e53b657de4"
      },
      "execution_count": 23,
      "outputs": [
        {
          "output_type": "stream",
          "name": "stdout",
          "text": [
            "Enter a three-digit number: 226\n",
            "Valid code!\n"
          ]
        }
      ]
    },
    {
      "cell_type": "markdown",
      "source": [
        "**Pregunta 4: Identificador de carácter**\n",
        "\n",
        "Pide al usuario un solo carácter y determina:\n",
        "\n",
        "* Si es vocal minúscula → \"Vocal minúscula\"\n",
        "* Si es vocal mayúscula → \"Vocal MAYÚSCULA\"\n",
        "* Si es número → \"Número\"\n",
        "* En cualquier otro caso → \"Símbolo especial\""
      ],
      "metadata": {
        "id": "zHCprzaP9fpB"
      }
    },
    {
      "cell_type": "code",
      "source": [
        "# Your code starts here\n",
        "\n",
        "# Data entry\n",
        "character_input = input(\"Enter a single character: \")\n",
        "\n",
        "# Business Conditions\n",
        "condition1 = len(character_input) != 1\n",
        "\n",
        "# Apply rules and print results\n",
        "if condition1:\n",
        "    print(\"Invalid input! You must enter a single character.\")\n",
        "else:\n",
        "  condition2 = character_input in \"aeiou\"\n",
        "  condition3 = character_input in \"AEIOU\"\n",
        "  condition4 = character_input.isdigit()\n",
        "\n",
        "  if condition2:\n",
        "    print(\"Lowercase vowel\")\n",
        "  elif condition3:\n",
        "    print(\"Uppercase vowel\")\n",
        "  elif condition4:\n",
        "    print(\"Number\")\n",
        "  else:\n",
        "    print(\"Special symbol\")\n",
        "\n",
        "# Your code ends here"
      ],
      "metadata": {
        "id": "OvCpLVUT92uZ",
        "colab": {
          "base_uri": "https://localhost:8080/"
        },
        "outputId": "80a00046-84c7-40df-ae7d-f7803c5f2c63"
      },
      "execution_count": 37,
      "outputs": [
        {
          "output_type": "stream",
          "name": "stdout",
          "text": [
            "Enter a single character: ww\n",
            "Invalid input!\n"
          ]
        }
      ]
    },
    {
      "cell_type": "markdown",
      "source": [
        "**Pregunta 5: Verificación cruzada de identidad**\n",
        "\n",
        "Un sistema de validación recibe los siguientes tres datos como entrada:\n",
        "\n",
        "\n",
        "1. Un código de 6 caracteres (ej. \"A1b2C3\")\n",
        "2. Un número de 3 cifras (ej. 528)\n",
        "3. Una letra (ej. \"b\")\n",
        "\n",
        "El programa debe:\n",
        "\n",
        "* Verificar si:\n",
        "\n",
        "  1. El primer carácter del código es una letra mayúscula,\n",
        "  2. El último carácter del código es un número,\n",
        "  3. La suma de los tres dígitos del número es par, y\n",
        "  4. La letra ingresada se encuentra dentro del código sin distinguir mayúsculas/minúsculas.\n",
        "\n",
        "* Si todas las condiciones se cumplen, imprimir: \"Identidad verificada\"\n",
        "\n",
        "* Si alguna no se cumple, imprimir: \"Acceso denegado\""
      ],
      "metadata": {
        "id": "FJyAxh0I-0N8"
      }
    },
    {
      "cell_type": "code",
      "source": [
        "# Your code starts here\n",
        "\n",
        "# Data entry\n",
        "code_input = input(\"Enter a six-character code: \")\n",
        "number_input = int(input(\"Enter a three-digit number: \"))\n",
        "letter_input = input(\"Enter a single letter: \")\n",
        "\n",
        "# Business Conditions\n",
        "condition1 = code_input[0].isupper()\n",
        "condition2 = code_input[-1].isdigit()\n",
        "\n",
        "digit_one = number_input // 100\n",
        "digit_two = (number_input // 10) % 10\n",
        "digit_three = number_input % 10\n",
        "\n",
        "condition3 = (digit_one + digit_two + digit_three) % 2 == 0\n",
        "condition4 = letter_input.lower() in code_input.lower()\n",
        "\n",
        "# Apply rules and print results\n",
        "if condition1 and condition2 and condition3 and condition4:\n",
        "    print(\"Identity verified\")\n",
        "else:\n",
        "    print(\"Access denied\")\n",
        "\n",
        "# Your code ends here"
      ],
      "metadata": {
        "id": "Z16sSPRc_TDH"
      },
      "execution_count": null,
      "outputs": []
    },
    {
      "cell_type": "markdown",
      "source": [
        "---\n",
        "\n",
        "### Gracias por completar este examen!\n",
        "\n",
        "---\n"
      ],
      "metadata": {
        "id": "vWNdqa91-NiX"
      }
    }
  ]
}